{
 "cells": [
  {
   "cell_type": "markdown",
   "id": "ec330014",
   "metadata": {},
   "source": [
    "# Model Training and Evaluation\n",
    "**Author:** Enej Podlipnik  \n",
    "**Affiliation:** University of Ljubljana, Faculty of Mechanical Engineering  \n",
    "**Date:** June 2024\n",
    "\n",
    "This notebook is part of the diploma project \"Impact Location and Force Prediction.\"  \n",
    "For full context, see the repository.\n",
    "\n",
    "## Purpose\n",
    "This notebook demonstrates the training, evaluation, and hyperparameter tuning of the impact prediction model.\n",
    "\n",
    "It is intended for academic and non-commercial use.\n",
    "\n",
    "## Requirements\n",
    "- Python packages listed in requirements.txt\n",
    "\n",
    "---"
   ]
  },
  {
   "cell_type": "markdown",
   "id": "9aa67931",
   "metadata": {},
   "source": [
    "## 1. Imports and List Available Functions"
   ]
  },
  {
   "cell_type": "code",
   "execution_count": null,
   "id": "d146101f",
   "metadata": {},
   "outputs": [
    {
     "name": "stdout",
     "output_type": "stream",
     "text": [
      "ImpactPredictor - ML model\n",
      "ImpactDataset - Make dataset\n",
      "make_dataloaders - Make dataloaders form the dataset\n",
      "train_model - Function to train the model\n",
      "save_model_weights - Saves the model weights\n",
      "load_model_weights - Loads model weights\n",
      "gather_data - Function for gathering data via LDAQ (open NI-MAX)\n",
      "plot_data - Plots data form the dictionary of gather_data()\n",
      "plot_loss_curves - Plots the loss curves of the traing proces\n",
      "open_pkl_dict - Opens a specified .pkl file and loads it as a dict\n",
      "live_inference - Performes live inference directly after gathering data\n",
      "save_model_results - Saves the dictionary of the model results to .pkl\n",
      "plot_inference - Plots predictions of the model vs. the labels\n",
      "print_model_summary - Print the parameters of the model\n",
      "prediction_heatmap - Makes a heatmap based on the location of predictions\n",
      "generate_latin_hypercube_points - Generate random sample points with LHC distribution (x,y,F)\n",
      "run_random_sampling - Runs the sampling with gather_data and samples across the generated random points\n",
      "interpolate_nan_in_directory - goes into a datadir and lineary interpolates to get rid of nan values\n",
      "cluster_location_labels - remaps the location labels to the neares grid point\n",
      "model_factory - creates a fresh instance of the CNN model\n",
      "dataset_factory - creates a fresh dataset\n",
      "save_lowpass_filtered_data - saves the filtered data dicts\n",
      "apply_lowpass - plots the filtered data vs. the source data\n",
      "plot_fft - plots the fft of the desired signal\n",
      "filter_array - filters a np array and returns the filtered signal\n",
      "estimate_first_mode - estimates the first own frequency\n"
     ]
    }
   ],
   "source": [
    "import functions\n",
    "functions.list_functions()"
   ]
  },
  {
   "cell_type": "markdown",
   "id": "96e09f08",
   "metadata": {},
   "source": [
    "## 2. Model Definition"
   ]
  },
  {
   "cell_type": "code",
   "execution_count": null,
   "id": "35914b2c",
   "metadata": {},
   "outputs": [],
   "source": [
    "# Model definition\n",
    "model = functions.ImpactPredictor(\n",
    "    num_sensors=4,\n",
    "    sequence_length=13,\n",
    "    cnn_filters=[32, 64, 128, 256],\n",
    "    kernel_size=5,\n",
    "    pool_size=2,\n",
    "    force_reg=False,\n",
    "    loc_class=False,\n",
    "    dropout_rate=0,\n",
    "    grid_resolution=(3,3),\n",
    "    latent_dim=256,\n",
    "    head_hidden_dim=256,\n",
    "    head_hidden_layers=5\n",
    ")"
   ]
  },
  {
   "cell_type": "markdown",
   "id": "06b0dab9",
   "metadata": {},
   "source": [
    "## 3. Dataset Preparation"
   ]
  },
  {
   "cell_type": "code",
   "execution_count": null,
   "id": "469cbafb",
   "metadata": {},
   "outputs": [],
   "source": [
    "# Make datasets with the filtered data\n",
    "dataset = functions.ImpactDataset(\n",
    "    data_dir=\"data/filtered_data_grid/filtered_cutoff_100\",\n",
    "    force_regression=False,\n",
    "    trim_data=True, # hard set to trim to 0.12 s when sample time is 0.3s\n",
    "    loc_class=False,\n",
    "    grid_size=(3,3),\n",
    "    classification_boundaries=(20, 30),\n",
    "    skip_data=80\n",
    ")\n",
    "\n",
    "# Make dataloader\n",
    "train_dataloader, test_dataloader = functions.make_dataloaders(\n",
    "    dataset=dataset,\n",
    "    train_frac=0.8,\n",
    "    batch_size=32\n",
    ")\n",
    "print(len(next(iter(dataset))[0]))"
   ]
  },
  {
   "cell_type": "markdown",
   "id": "6298d6d8",
   "metadata": {},
   "source": [
    "## 4. Optimizer and Loss Functions"
   ]
  },
  {
   "cell_type": "code",
   "execution_count": null,
   "id": "d7f24620",
   "metadata": {},
   "outputs": [],
   "source": [
    "import torch\n",
    "import torch.nn as nn\n",
    "\n",
    "loss_loc = nn.MSELoss()\n",
    "loss_force = nn.CrossEntropyLoss()\n",
    "\n",
    "optimizer = torch.optim.Adam(params=model.parameters(), lr=1e-3, weight_decay=5e-6)"
   ]
  },
  {
   "cell_type": "markdown",
   "id": "db90e760",
   "metadata": {},
   "source": [
    "## 5. Model Training"
   ]
  },
  {
   "cell_type": "code",
   "execution_count": null,
   "id": "0d307e33",
   "metadata": {},
   "outputs": [],
   "source": [
    "model_results = functions.train_model(\n",
    "    model=model,\n",
    "    train_loader=train_dataloader,\n",
    "    test_loader=test_dataloader,\n",
    "    num_epochs=150,\n",
    "    optimizer=optimizer,\n",
    "    criterion_force=loss_force,\n",
    "    criterion_loc=loss_loc,\n",
    "    loss_weight_force=(1, 1),\n",
    "    loss_weight_loc=(1, 1), # linearly changes during training\n",
    "    early_stop_patience=20\n",
    ")"
   ]
  },
  {
   "cell_type": "markdown",
   "id": "ff8d8a2a",
   "metadata": {},
   "source": [
    "## 6. Save Results and Model Weights"
   ]
  },
  {
   "cell_type": "code",
   "execution_count": null,
   "id": "196d92e3",
   "metadata": {},
   "outputs": [],
   "source": [
    "MODEL_RESULTS = \"model_017_v24c_dict\"\n",
    "MODEL_WEIGHTS = \"model_017_v24c\"\n",
    "functions.save_model_results(dir_name=\"model_results\", file_name=MODEL_RESULTS, model_results_dict=model_results)\n",
    "functions.save_model_weights(model=model, dir_name=\"model_weights\", weights_name=MODEL_WEIGHTS)"
   ]
  },
  {
   "cell_type": "markdown",
   "id": "be163287",
   "metadata": {},
   "source": [
    "## 7. Hyperparameter Grid Search"
   ]
  },
  {
   "cell_type": "code",
   "execution_count": null,
   "id": "b5702141",
   "metadata": {},
   "outputs": [],
   "source": [
    "cutoff_freqs = list(range(100, 1001, 100))\n",
    "downsample_rates = list(range(10, 101, 10))\n",
    "\n",
    "results = []\n",
    "for cutoff in cutoff_freqs:\n",
    "    for downsample in downsample_rates:\n",
    "        # Generate dataset and dataloader\n",
    "        dataset = functions.ImpactDataset(\n",
    "            data_dir=f\"data/filtered_data_grid/filtered_cutoff_{cutoff}\",\n",
    "            loc_class=False,\n",
    "            trim_data=True,\n",
    "            grid_size=(3,3),\n",
    "            force_regression=False,\n",
    "            classification_boundaries=(20, 30),\n",
    "            skip_data=downsample\n",
    "        )\n",
    "        train_dataloader, test_dataloader = functions.make_dataloaders(\n",
    "            dataset=dataset,\n",
    "            train_frac=0.8,\n",
    "            batch_size=32\n",
    "        )\n",
    "        \n",
    "        # Train model and get results\n",
    "        model = functions.ImpactPredictor(\n",
    "            num_sensors=4,\n",
    "            sequence_length=13,\n",
    "            cnn_filters=[32, 64, 128, 256],\n",
    "            kernel_size=5,\n",
    "            pool_size=2,\n",
    "            force_reg=False,\n",
    "            loc_class=False,\n",
    "            dropout_rate=0,\n",
    "            grid_resolution=(3,3),\n",
    "            latent_dim=256,\n",
    "            head_hidden_dim=256,\n",
    "            head_hidden_layers=5\n",
    "        )\n",
    "                \n",
    "        optimizer = torch.optim.Adam(params=model.parameters(), lr=1e-3, weight_decay=5e-6)\n",
    "        loss_loc = nn.MSELoss()\n",
    "        loss_force = nn.CrossEntropyLoss()\n",
    "\n",
    "        model_results = functions.train_model(\n",
    "            model=model,\n",
    "            train_loader=train_dataloader,\n",
    "            test_loader=test_dataloader,\n",
    "            num_epochs=150,\n",
    "            optimizer=optimizer,\n",
    "            criterion_loc=loss_loc,\n",
    "            criterion_force=loss_force,\n",
    "            loss_weight_loc=(1, 10),\n",
    "            loss_weight_force=(1, 1),\n",
    "            early_stop_patience=20\n",
    "        )\n",
    "        \n",
    "        # Record validation metric\n",
    "        val_loss = model_results[\"test_loss\"][-1]\n",
    "        results.append({\n",
    "            \"cutoff\" : cutoff,\n",
    "            \"skip\" : downsample,\n",
    "            \"test_loss\" : val_loss\n",
    "        })\n",
    "        print(f\"Cutoff: {cutoff} | downsample: {downsample} -> Test loss: {val_loss}\")"
   ]
  },
  {
   "cell_type": "markdown",
   "id": "cbbf3e34",
   "metadata": {},
   "source": [
    "## 8. Analyze and Save Top Results"
   ]
  },
  {
   "cell_type": "code",
   "execution_count": null,
   "id": "2b2061ab",
   "metadata": {},
   "outputs": [
    {
     "name": "stdout",
     "output_type": "stream",
     "text": [
      "Saved dict to: filter_parameters\\top_10_results_cutoff_downsample.pkl\n"
     ]
    }
   ],
   "source": [
    "# Print out optimal parameters\n",
    "opt_params = {\"cutoff\" : 10, \"skip\" : 10, \"test_loss\" : 9999}\n",
    "loss_vals = []\n",
    "for idx, i in enumerate(results):\n",
    "    loss_vals.append(i[\"test_loss\"])\n",
    "    if i[\"test_loss\"] < opt_params[\"test_loss\"]:\n",
    "        opt_params = i\n",
    "\n",
    "sorted_vals = sorted(loss_vals)\n",
    "sorted_vals = sorted_vals[:10] # top 10 loss_vals \n",
    "\n",
    "top_results = []\n",
    "for loss in sorted_vals:\n",
    "    for result in results:\n",
    "        if result[\"test_loss\"] == loss:\n",
    "            top_results.append(result)\n",
    "            break # ensures that if there are duplicate losses, we only add one of the results\n",
    "top_results_dict = {\"top_results\": top_results}\n",
    "\n",
    "functions.save_model_results(dir_name=\"filter_parameters\", file_name=\"top_10_results_cutoff_downsample\", model_results_dict=top_results_dict)"
   ]
  },
  {
   "cell_type": "code",
   "execution_count": 124,
   "id": "ec7d4f1f",
   "metadata": {},
   "outputs": [
    {
     "data": {
      "text/plain": [
       "[{'cutoff': 900, 'skip': 60, 'test_loss': 0.001210193052732696},\n",
       " {'cutoff': 900, 'skip': 100, 'test_loss': 0.003688327968120575},\n",
       " {'cutoff': 800, 'skip': 100, 'test_loss': 0.004406509688124061},\n",
       " {'cutoff': 100, 'skip': 80, 'test_loss': 0.004990524495951831},\n",
       " {'cutoff': 1000, 'skip': 30, 'test_loss': 0.00543355627451092},\n",
       " {'cutoff': 900, 'skip': 40, 'test_loss': 0.0059389751792574925},\n",
       " {'cutoff': 200, 'skip': 50, 'test_loss': 0.006975318227584164},\n",
       " {'cutoff': 500, 'skip': 40, 'test_loss': 0.007249484226728479},\n",
       " {'cutoff': 800, 'skip': 60, 'test_loss': 0.007255091603534917},\n",
       " {'cutoff': 600, 'skip': 30, 'test_loss': 0.007454162347130477}]"
      ]
     },
     "execution_count": 124,
     "metadata": {},
     "output_type": "execute_result"
    }
   ],
   "source": [
    "# load data dict with the top results\n",
    "top_results = functions.open_pkl_dict(file_path=\"filter_parameters/top_10_results_cutoff_downsample.pkl\")\n",
    "top_results[\"top_results\"]"
   ]
  },
  {
   "cell_type": "code",
   "execution_count": 74,
   "id": "997baec3",
   "metadata": {},
   "outputs": [
    {
     "name": "stdout",
     "output_type": "stream",
     "text": [
      "Saved dict to: model_weights\\model_017_v15c.pkl\n",
      "Saved dict to: model_results\\model_017_v15c_dict.pkl\n"
     ]
    }
   ],
   "source": [
    "functions.save_model_weights(model=model, dir_name=\"model_weights\", weights_name=\"model_017_v15c\")\n",
    "functions.save_model_results(dir_name=\"model_results\", file_name=\"model_017_v15c_dict\", model_results_dict=model_results)"
   ]
  },
  {
   "cell_type": "markdown",
   "id": "edab1927",
   "metadata": {},
   "source": [
    "## 9. Test Hyperparameters"
   ]
  },
  {
   "cell_type": "code",
   "execution_count": 4,
   "id": "9191caac",
   "metadata": {},
   "outputs": [
    {
     "data": {
      "text/plain": [
       "1680"
      ]
     },
     "execution_count": 4,
     "metadata": {},
     "output_type": "execute_result"
    }
   ],
   "source": [
    "dataset = functions.ImpactDataset(data_dir=\"data/remapped_data\",\n",
    "                                  loc_class=False, # hyperparameter search je hard coded na loc_reg in force_class\n",
    "                                  trim_data=True,\n",
    "                                  grid_size=(3,3),\n",
    "                                  force_regression=False,\n",
    "                                  classification_boundaries=(20,30))\n",
    "\n",
    "\n",
    "zero_arg_model = lambda: functions.model_factory(num_sensors=4,\n",
    "                                                          sequence_length=6144,\n",
    "                                                          cnn_filters=[32, 64, 128, 256],\n",
    "                                                          kernel_size=5,\n",
    "                                                          pool_size=2,\n",
    "                                                          force_reg=False,\n",
    "                                                          loc_class=False,\n",
    "                                                          dropout_rate=0,\n",
    "                                                          grid_resolution=(3,3),\n",
    "                                                          latent_dim=256,\n",
    "                                                          head_hidden_dim=256,\n",
    "                                                          head_hidden_layers=5)\n",
    "\n",
    "zero_arg_dataloader = lambda: functions.dataset_factory(dataset=dataset,\n",
    "                                                        batch_size=32,\n",
    "                                                        train_frac=0.8)\n",
    "\n",
    "len(dataset)"
   ]
  },
  {
   "cell_type": "code",
   "execution_count": null,
   "id": "c2d3b35f",
   "metadata": {},
   "outputs": [],
   "source": [
    "### Test hyperparameters\n",
    "optimal_params = functions.hyperparameter_search(model_factory=zero_arg_model(),\n",
    "                                                 dataset_factory=zero_arg_dataloader,\n",
    "                                                 lr_range=(1e-2, 1e-6),\n",
    "                                                 wd_range=(1e-3, 1e-7),\n",
    "                                                 loc_w_range=(1, 1000),\n",
    "                                                 n_trials=100,\n",
    "                                                 epochs_per_trial=20)"
   ]
  },
  {
   "cell_type": "markdown",
   "id": "2de516c7",
   "metadata": {},
   "source": [
    "## 10. Remap Data"
   ]
  },
  {
   "cell_type": "code",
   "execution_count": null,
   "id": "05ee36fd",
   "metadata": {},
   "outputs": [],
   "source": [
    "functions.cluster_location_labels(data_dir=\"data/LHC_sampling_10samples\",\n",
    "                                  grid_resoulution=(3,3),\n",
    "                                  overwrite=False,\n",
    "                                  output_dir=\"data/remapped_data\")"
   ]
  },
  {
   "cell_type": "markdown",
   "id": "8501bbcb",
   "metadata": {},
   "source": [
    "## 11. Show Model Results"
   ]
  },
  {
   "cell_type": "code",
   "execution_count": 57,
   "id": "056c2857",
   "metadata": {},
   "outputs": [],
   "source": [
    "# Model definition\n",
    "model = functions.ImpactPredictor(num_sensors=4,\n",
    "                        sequence_length=62,\n",
    "                        cnn_filters=[32, 64, 128, 256],\n",
    "                        kernel_size=5,\n",
    "                        pool_size=2,\n",
    "                        force_reg=False,\n",
    "                        loc_class=False,\n",
    "                        dropout_rate=0,\n",
    "                        grid_resolution=(3,3),\n",
    "                        latent_dim=256,\n",
    "                        head_hidden_dim=256,\n",
    "                        head_hidden_layers=5)\n",
    "\n"
   ]
  },
  {
   "cell_type": "code",
   "execution_count": 6,
   "id": "fc1ac2d3",
   "metadata": {},
   "outputs": [
    {
     "data": {
      "image/png": "[encoded data removed]",
      "text/plain": [
       "<Figure size 700x500 with 1 Axes>"
      ]
     },
     "metadata": {},
     "output_type": "display_data"
    }
   ],
   "source": [
    "model_results = functions.open_pkl_dict(file_path=\"model_results/\" + \"model_017_v16c_dict\"+ \".pkl\")\n",
    "functions.plot_loss_curves(model_results)"
   ]
  },
  {
   "cell_type": "code",
   "execution_count": 59,
   "id": "86038ff4",
   "metadata": {},
   "outputs": [
    {
     "name": "stdout",
     "output_type": "stream",
     "text": [
      "Tensor after downsampling: torch.Size([103, 4])\n",
      "The model predicted the impact at coord: (0.4255223274230957, 0.4335384666919708)\n"
     ]
    },
    {
     "data": {
      "image/png": "[encoded data removed]",
      "text/plain": [
       "<Figure size 700x700 with 1 Axes>"
      ]
     },
     "metadata": {},
     "output_type": "display_data"
    }
   ],
   "source": [
    "data_dict = functions.open_pkl_dict(file_path=\"data/filtered_data_grid/filtered_cutoff_100/0.5_0.5_15_30.pkl\")\n",
    "functions.plot_inference(data_dict=data_dict,\n",
    "                         model=model,\n",
    "                         weight_path=\"model_weights/\" + MODEL_WEIGHTS + \".pkl\",\n",
    "                         board_size_xy=(1,1),\n",
    "                         class_boundaries=(20,30),\n",
    "                         grid_size=(3,3),\n",
    "                         trim_duration=0.12,\n",
    "                         skip_data=60)"
   ]
  },
  {
   "cell_type": "code",
   "execution_count": 60,
   "id": "57224896",
   "metadata": {},
   "outputs": [
    {
     "data": {
      "image/png": "[encoded data removed]",
      "text/plain": [
       "<Figure size 600x500 with 2 Axes>"
      ]
     },
     "metadata": {},
     "output_type": "display_data"
    }
   ],
   "source": [
    "functions.prediction_heatmap(model=model,\n",
    "                             weight_path=\"model_weights/\" + MODEL_WEIGHTS + \".pkl\",\n",
    "                             data_dir=\"data/filtered_data_grid/filtered_cutoff_100\",\n",
    "                             board_size_xy=(1,1),\n",
    "                             grid_res=(3,3),\n",
    "                             skip_data=60,\n",
    "                             trim_duration=0.12,\n",
    "                             verbose=False)\n"
   ]
  },
  {
   "cell_type": "code",
   "execution_count": null,
   "id": "d578fbab",
   "metadata": {},
   "outputs": [],
   "source": [
    "functions.print_model_summary(model=model, input_size=(32, 6144, 4))"
   ]
  },
  {
   "cell_type": "markdown",
   "id": "6e6db568",
   "metadata": {},
   "source": [
    "## References\n",
    "- This code is part of: Enej Podlipnik, \"Impact Location and Force Prediction,\" Undergraduate Diploma Thesis, University of Ljubljana, Faculty of Mechanical Engineering, 2024.\n",
    "- Repository: [add your repository URL here]"
   ]
  }
 ],
 "metadata": {
  "kernelspec": {
   "display_name": "Python 3",
   "language": "python",
   "name": "python3"
  },
  "language_info": {
   "codemirror_mode": {
    "name": "ipython",
    "version": 3
   },
   "file_extension": ".py",
   "mimetype": "text/x-python",
   "name": "python",
   "nbconvert_exporter": "python",
   "pygments_lexer": "ipython3",
   "version": "3.12.4"
  }
 },
 "nbformat": 4,
 "nbformat_minor": 5
}
