{
 "cells": [
  {
   "cell_type": "markdown",
   "id": "fd5c7876",
   "metadata": {},
   "source": [
    "# Data Acquisition and Live Inference\n",
    "**Author:** Enej Podlipnik  \n",
    "**Affiliation:** University of Ljubljana, Faculty of Mechanical Engineering  \n",
    "**Date:** July 2025\n",
    "\n",
    "This notebook is part of the diploma project \"Impact Location and Force Prediction.\"  \n",
    "For full context, see the repository.\n",
    "\n",
    "## Purpose\n",
    "This notebook demonstrates the process of acquiring sensor data and performing live inference using a trained deep learning model.\n",
    "\n",
    "It is intended for academic and non-commercial use.\n",
    "\n",
    "## Requirements\n",
    "- National Instruments hardware with NI-DAQmx drivers\n",
    "- Python packages listed in requirements.txt"
   ]
  },
  {
   "cell_type": "markdown",
   "id": "dc18c839",
   "metadata": {},
   "source": [
    "## 1. Device Discovery and Imports"
   ]
  },
  {
   "cell_type": "code",
   "execution_count": 1,
   "id": "5b4797b7",
   "metadata": {},
   "outputs": [
    {
     "name": "stdout",
     "output_type": "stream",
     "text": [
      "Devices: ['cDAQ1', 'cDAQ1Mod1', 'cDAQ1Mod2', 'cDAQ1Mod3']\n"
     ]
    }
   ],
   "source": [
    "# Imports\n",
    "import LDAQ\n",
    "import nidaqmx\n",
    "from nidaqmx.system import System\n",
    "import numpy as np\n",
    "import pathlib\n",
    "from pathlib import Path\n",
    "import pickle\n",
    "import functions\n",
    "import torch\n",
    "\n",
    "# Print the devices\n",
    "system = System.local()\n",
    "print(f\"Devices: {[d.name for d in system.devices]}\")\n"
   ]
  },
  {
   "cell_type": "markdown",
   "id": "c8fdb752",
   "metadata": {},
   "source": [
    "## 2. List Available Functions"
   ]
  },
  {
   "cell_type": "code",
   "execution_count": null,
   "id": "e006ce5c",
   "metadata": {},
   "outputs": [],
   "source": [
    "functions.list_functions()"
   ]
  },
  {
   "cell_type": "markdown",
   "id": "e88d20b0",
   "metadata": {},
   "source": [
    "## 3. Data Acquisition"
   ]
  },
  {
   "cell_type": "code",
   "execution_count": null,
   "id": "647b1658",
   "metadata": {},
   "outputs": [],
   "source": [
    "# Trigger forces for the dataset are 15, 25, and 35\n",
    "\n",
    "sample_dict = functions.gather_data(\n",
    "    location=(1, 1),\n",
    "    sample_rate=51200,\n",
    "    trigger_force=15,\n",
    "    measurment_duration=0.3,\n",
    "    num_presamples=100,\n",
    "    hammer_trigger=False,\n",
    "    resistance_trigger=5.4,\n",
    "    R_shunt=350,\n",
    "    num_samples=1,\n",
    "    DIR_NAME=\"data/3x3_grid_30samples_3force\",\n",
    "    save_dict=False\n",
    ")\n",
    "functions.plot_data(sample_dict, sample_rate=51200)"
   ]
  },
  {
   "cell_type": "markdown",
   "id": "345247c3",
   "metadata": {},
   "source": [
    "## 4. Open and Visualize Saved Data"
   ]
  },
  {
   "cell_type": "code",
   "execution_count": null,
   "id": "373b0f42",
   "metadata": {},
   "outputs": [],
   "source": [
    "\n",
    "sample_dict_2 = functions.open_pkl_dict(file_path=\"data/sampling_with_finger_location/0.6_0.8_17.3_7.pkl\")\n",
    "functions.plot_data(sample_dict_2)"
   ]
  },
  {
   "cell_type": "code",
   "execution_count": null,
   "id": "d359696a",
   "metadata": {},
   "outputs": [],
   "source": [
    "example = functions.open_pkl_dict(file_path=\"data/LHC_sampling_10samples/0.2_0.7_15_10.pkl\")\n",
    "functions.plot_data(example)\n",
    "print(example[\"data\"][0].shape)\n",
    "print(example[\"hammer_max_force\"])"
   ]
  },
  {
   "cell_type": "code",
   "execution_count": null,
   "id": "d4e3f46d",
   "metadata": {},
   "outputs": [],
   "source": [
    "example[\"data\"][0].shape[0]\n",
    "len(example[\"data\"][0][:, 0])"
   ]
  },
  {
   "cell_type": "markdown",
   "id": "f8772df9",
   "metadata": {},
   "source": [
    "## 5. Latin Hypercube Sampling (LHC)"
   ]
  },
  {
   "cell_type": "code",
   "execution_count": null,
   "id": "5140e0a4",
   "metadata": {},
   "outputs": [],
   "source": [
    "hypercube_data = functions.generate_latin_hypercube_points(\n",
    "    n_samples=40,\n",
    "    x_range=(0.5, 1.0),\n",
    "    y_range=(0, 1.0),\n",
    "    seed=43,\n",
    "    resolution=0.1\n",
    ")\n",
    "hypercube_data"
   ]
  },
  {
   "cell_type": "code",
   "execution_count": null,
   "id": "aea70dd7",
   "metadata": {},
   "outputs": [],
   "source": [
    "functions.run_random_sampling(\n",
    "    sample_points=hypercube_data,\n",
    "    sample_rate=51200,\n",
    "    measurment_duration=0.3,\n",
    "    num_samples=10,\n",
    "    num_presamples=100, \n",
    "    hammer_trigger=True,\n",
    "    trigger_force=10,\n",
    "    resistance_trigger=1.942,\n",
    "    R_shunt=350,\n",
    "    save_dir_name=\"data/LHC_targeted_sampling_1_4_kvadrant\",\n",
    "    save_dict=True\n",
    ")"
   ]
  },
  {
   "cell_type": "markdown",
   "id": "9e370273",
   "metadata": {},
   "source": [
    "## 6. Live Inference"
   ]
  },
  {
   "cell_type": "code",
   "execution_count": null,
   "id": "cf192a8d",
   "metadata": {},
   "outputs": [],
   "source": [
    "# Model definition\n",
    "model = functions.ImpactPredictor(\n",
    "    num_sensors=4,\n",
    "    sequence_length=13,       # must match your down-sampled length\n",
    "    cnn_filters=[32, 64, 128, 256],\n",
    "    kernel_size=5,\n",
    "    pool_size=2,\n",
    "    force_reg=False,\n",
    "    loc_class=True,\n",
    "    grid_resolution=(3,3),\n",
    "    latent_dim=256,\n",
    "    dropout_rate=0.0,\n",
    "    head_hidden_dim=256,\n",
    "    head_hidden_layers=5\n",
    ")\n",
    "\n",
    "# Filter function and parameters\n",
    "filter_fn = functions.filter_array_LI\n",
    "filter_params = [\n",
    "    900.0,   # cutoff frequency in Hz\n",
    "    0.12     # trim duration in seconds\n",
    "]\n",
    "\n",
    "# Live inference\n",
    "results = functions.live_inference(\n",
    "    model=model,\n",
    "    weight_path=\"model_weights/model_017_v22c_loc_c.pkl\",\n",
    "    board_size_xy=(0.5, 0.5),\n",
    "    location=(1, 1),\n",
    "    class_boundaries=(20, 30),\n",
    "    grid_res=(3,3),\n",
    "    sample_rate=51200,\n",
    "    trigger_force=15,\n",
    "    measurement_duration=0.3,\n",
    "    num_presamples=100,\n",
    "    hammer_trigger=True,\n",
    "    resistance_trigger=5.5,\n",
    "    DIR_NAME=\"live_inference\",\n",
    "    R_shunt=350,\n",
    "    filter_parameters=filter_params,\n",
    "    filter_fn=filter_fn,\n",
    "    skip_data=60\n",
    ")\n",
    "\n",
    "# Inspect the returned dict\n",
    "print(results)"
   ]
  },
  {
   "cell_type": "code",
   "execution_count": null,
   "id": "9cae80c6",
   "metadata": {},
   "outputs": [],
   "source": [
    "# Save live inference dict\n",
    "functions.save_model_results(\n",
    "    dir_name=\"live_inference\",\n",
    "    file_name=\"LI_1_1\",\n",
    "    model_results_dict=results\n",
    ")  # saves a dictionary as a .pkl file"
   ]
  },
  {
   "cell_type": "code",
   "execution_count": null,
   "id": "3771a51d",
   "metadata": {},
   "outputs": [],
   "source": [
    "# Open saved dicts\n",
    "results_saved = functions.open_pkl_dict(file_path=\"live_inference/LI_0.5_0.5.pkl\")"
   ]
  },
  {
   "cell_type": "markdown",
   "id": "2e12a08a",
   "metadata": {},
   "source": [
    "## References\n",
    "- This code is part of: Enej Podlipnik, \"Impact Location and Force Prediction,\" Undergraduate Diploma Thesis, University of Ljubljana, Faculty of Mechanical Engineering, 2024.\n",
    "- Repository: [add your repository URL here]"
   ]
  }
 ],
 "metadata": {
  "kernelspec": {
   "display_name": "Python 3",
   "language": "python",
   "name": "python3"
  },
  "language_info": {
   "codemirror_mode": {
    "name": "ipython",
    "version": 3
   },
   "file_extension": ".py",
   "mimetype": "text/x-python",
   "name": "python",
   "nbconvert_exporter": "python",
   "pygments_lexer": "ipython3",
   "version": "3.12.4"
  }
 },
 "nbformat": 4,
 "nbformat_minor": 5
}
